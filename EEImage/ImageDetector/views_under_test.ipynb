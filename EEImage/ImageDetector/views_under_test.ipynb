{
 "cells": [
  {
   "cell_type": "code",
   "execution_count": 8,
   "metadata": {},
   "outputs": [],
   "source": [
    "\n",
    "import tensorflow as tf\n",
    "from tensorflow.keras.preprocessing import image\n",
    "import cv2\n",
    "import numpy as np\n",
    "from tensorflow.keras.models import load_model\n",
    "from matplotlib import pyplot as plt"
   ]
  },
  {
   "cell_type": "code",
   "execution_count": 6,
   "metadata": {},
   "outputs": [
    {
     "name": "stderr",
     "output_type": "stream",
     "text": [
      "2022-07-04 18:36:00.620348: I tensorflow/core/platform/cpu_feature_guard.cc:193] This TensorFlow binary is optimized with oneAPI Deep Neural Network Library (oneDNN) to use the following CPU instructions in performance-critical operations:  AVX2 FMA\n",
      "To enable them in other operations, rebuild TensorFlow with the appropriate compiler flags.\n"
     ]
    }
   ],
   "source": [
    "final_model = load_model('/Users/oreadeniyi/Desktop/multiimageclassifier3.h5')\n"
   ]
  },
  {
   "cell_type": "code",
   "execution_count": null,
   "metadata": {},
   "outputs": [],
   "source": []
  },
  {
   "cell_type": "code",
   "execution_count": 18,
   "metadata": {},
   "outputs": [
    {
     "name": "stdout",
     "output_type": "stream",
     "text": [
      "1/1 [==============================] - 1s 1s/step\n",
      "Inductor\n"
     ]
    }
   ],
   "source": [
    "img = image.load_img('../media/vs55.png')\n",
    "resize = image.img_to_array(img)\n",
    "resize = resize/255;\n",
    "\n",
    "\n",
    "#plt.imshow(resize.numpy().astype(int))\n",
    "#plt.show()\n",
    "    \n",
    "image_class_final =np.argmax(final_model.predict(np.expand_dims(resize/255, 0)))\n",
    "\n",
    "def numbers_to_label(argument):\n",
    "    \n",
    "    switcher = {\n",
    "        0: \"Capacitor\",\n",
    "        1: \"Inductor\",\n",
    "        2: \"Resistor\",\n",
    "        3: \"BJT\",\n",
    "        4: \"Diode\",\n",
    "        5: \"Dependent Current Source\",\n",
    "        6: \"Dependent Voltage Source\",\n",
    "        7: \"Ground\",\n",
    "        8: \"Current Source\",\n",
    "        9: \"MOSFET\",\n",
    "        10: \"OP-AMP\",\n",
    "        11: \"Voltage Source\"\n",
    "\n",
    "    }\n",
    "      # get() method of dictionary data type returns\n",
    "    # value of passed argument if it is present\n",
    "    # in dictionary otherwise second argument will\n",
    "    # be assigned as default value of passed argument\n",
    "    return switcher.get(argument, \"nothing\")\n",
    "\n",
    "#print(numbers_to_label(image_class))\n",
    "#print(numbers_to_label(image_class2))\n",
    "print(numbers_to_label(image_class_final))"
   ]
  }
 ],
 "metadata": {
  "kernelspec": {
   "display_name": "Python 3.8.6 64-bit",
   "language": "python",
   "name": "python3"
  },
  "language_info": {
   "codemirror_mode": {
    "name": "ipython",
    "version": 3
   },
   "file_extension": ".py",
   "mimetype": "text/x-python",
   "name": "python",
   "nbconvert_exporter": "python",
   "pygments_lexer": "ipython3",
   "version": "3.8.6"
  },
  "orig_nbformat": 4,
  "vscode": {
   "interpreter": {
    "hash": "0adcc2737ebf6a4a119f135174df96668767fca1ef1112612db5ecadf2b6d608"
   }
  }
 },
 "nbformat": 4,
 "nbformat_minor": 2
}
